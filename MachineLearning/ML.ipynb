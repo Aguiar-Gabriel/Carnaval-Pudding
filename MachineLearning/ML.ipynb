{
 "cells": [
  {
   "cell_type": "code",
   "execution_count": 176,
   "metadata": {
    "id": "7B4FB199bZvp"
   },
   "outputs": [],
   "source": [
    "import pandas as pd\n",
    "data = pd.read_csv(\"/content/drive/MyDrive/Colab/Practicum/HACKATON/df_new.csv\")\n",
    "data_ml = data[[\"idade\",\"genero\",\"estado_civil\", \"faixa_renda\", \"bloco\"]]"
   ]
  },
  {
   "cell_type": "code",
   "execution_count": 180,
   "metadata": {
    "colab": {
     "base_uri": "https://localhost:8080/"
    },
    "id": "LQBMn76n4TV7",
    "outputId": "f1f5d3f1-8aae-4d87-ac43-068ffe54b173"
   },
   "outputs": [
    {
     "name": "stdout",
     "output_type": "stream",
     "text": [
      "<class 'pandas.core.frame.DataFrame'>\n",
      "RangeIndex: 1645 entries, 0 to 1644\n",
      "Data columns (total 58 columns):\n",
      " #   Column                      Non-Null Count  Dtype  \n",
      "---  ------                      --------------  -----  \n",
      " 0   Unnamed: 0.1                1645 non-null   int64  \n",
      " 1   Unnamed: 0                  1645 non-null   int64  \n",
      " 2   morador                     1645 non-null   object \n",
      " 3   numero_controle             1645 non-null   int64  \n",
      " 4   bloco                       1645 non-null   object \n",
      " 5   bloco_classificacao         1645 non-null   object \n",
      " 6   dt_visita                   1645 non-null   object \n",
      " 7   dt_termino                  1645 non-null   object \n",
      " 8   tempo_total_entrev          1645 non-null   object \n",
      " 9   idade                       1645 non-null   int64  \n",
      " 10  pais                        1645 non-null   object \n",
      " 11  estado                      1640 non-null   object \n",
      " 12  cidade                      1640 non-null   object \n",
      " 13  bairro_bh                   1135 non-null   object \n",
      " 14  regiao_bh                   1135 non-null   object \n",
      " 15  t_pernoite                  228 non-null    object \n",
      " 16  t_qtpernoite                210 non-null    float64\n",
      " 17  t_hospedagem                210 non-null    object \n",
      " 18  t_transp                    211 non-null    object \n",
      " 19  t_motivo                    229 non-null    object \n",
      " 20  t_outromoivo                49 non-null     object \n",
      " 21  dias_carnaval               1645 non-null   int64  \n",
      " 22  gasto_total                 1623 non-null   float64\n",
      " 23  t_hospedagem.1              40 non-null     float64\n",
      " 24  alimentacao                 1559 non-null   float64\n",
      " 25  t_atrativos_passeios        181 non-null    float64\n",
      " 26  transporte_interno          1191 non-null   float64\n",
      " 27  compras                     513 non-null    float64\n",
      " 28  ingressos                   102 non-null    float64\n",
      " 29  outros                      244 non-null    float64\n",
      " 30  total                       1622 non-null   float64\n",
      " 31  qtd_pessoas_gasto           1644 non-null   float64\n",
      " 32  fonte_carnaval              1645 non-null   object \n",
      " 33  participou_anos_anteriores  1645 non-null   object \n",
      " 34  evolucao                    1211 non-null   object \n",
      " 35  motivo                      63 non-null     object \n",
      " 36  expectativas                1645 non-null   object \n",
      " 37  aval_geral                  1615 non-null   float64\n",
      " 38  aval_banheiros              1641 non-null   float64\n",
      " 39  aval_seguranca              1638 non-null   float64\n",
      " 40  aval_precos                 1644 non-null   float64\n",
      " 41  proxima_edicao              1645 non-null   bool   \n",
      " 42  motivo_nao                  106 non-null    object \n",
      " 43  blocos_de_rua               1645 non-null   bool   \n",
      " 44  escola_samba_caricato       1645 non-null   bool   \n",
      " 45  eventos_privados            1645 non-null   bool   \n",
      " 46  palcos                      1645 non-null   bool   \n",
      " 47  t_visita_amigos             229 non-null    object \n",
      " 48  t_city_tour                 229 non-null    object \n",
      " 49  t_visita_cultural           229 non-null    object \n",
      " 50  t_compras                   229 non-null    object \n",
      " 51  t_gastronomia               229 non-null    object \n",
      " 52  principal_patrocinador      1645 non-null   object \n",
      " 53  outro_patrocinador          638 non-null    object \n",
      " 54  genero                      1645 non-null   object \n",
      " 55  escolaridade                1645 non-null   object \n",
      " 56  estado_civil                1645 non-null   object \n",
      " 57  faixa_renda                 1645 non-null   object \n",
      "dtypes: bool(5), float64(15), int64(5), object(33)\n",
      "memory usage: 689.3+ KB\n"
     ]
    }
   ],
   "source": [
    "data.info()"
   ]
  },
  {
   "cell_type": "markdown",
   "metadata": {
    "id": "WqvKu7lw6rZE"
   },
   "source": [
    "## Clustering"
   ]
  },
  {
   "cell_type": "code",
   "execution_count": 209,
   "metadata": {
    "colab": {
     "base_uri": "https://localhost:8080/"
    },
    "id": "APRAtwxH6SNe",
    "outputId": "a7ebcd29-5dfb-4d12-d5bc-e78368fe9492"
   },
   "outputs": [
    {
     "name": "stdout",
     "output_type": "stream",
     "text": [
      "The recommended block for the chosen person is Baianas Ozadas.\n"
     ]
    }
   ],
   "source": [
    "from sklearn.cluster import KMeans\n",
    "\n",
    "df = pd.read_csv(\"/content/drive/MyDrive/Colab/Practicum/HACKATON/df_new.csv\") \n",
    "\n",
    "# Select features\n",
    "features = ['idade', 'genero', 'estado_civil']\n",
    "\n",
    "# Convert categorical features to numerical\n",
    "df_numerical = pd.get_dummies(df[features])\n",
    "\n",
    "# Cluster the data\n",
    "n_clusters = 5\n",
    "kmeans = KMeans(n_clusters=n_clusters, random_state=42, n_init=10)\n",
    "df['cluster'] = kmeans.fit_predict(df_numerical)\n",
    "\n",
    "# Recommend a block for a chosen person\n",
    "chosen_person = df[(df['idade'] == 30) & (df['genero'] == 'Feminino') & (df['estado_civil'] == 'Solteiro(a)')]\n",
    "if chosen_person.empty:\n",
    "    recommended_block = df['bloco'].sample().values[0]\n",
    "else:\n",
    "    chosen_cluster = chosen_person['cluster'].values[0]\n",
    "    recommended_block = df[df['cluster'] == chosen_cluster]['bloco'].mode().values[0]\n",
    "print(f\"The recommended block for the chosen person is {recommended_block}.\")\n"
   ]
  },
  {
   "cell_type": "markdown",
   "metadata": {
    "id": "s9XpGRyY1-rs"
   },
   "source": [
    "# ML"
   ]
  },
  {
   "cell_type": "code",
   "execution_count": 204,
   "metadata": {
    "id": "Tjjb2c4t1p9O"
   },
   "outputs": [],
   "source": [
    "import pandas as pd\n",
    "from sklearn.ensemble import RandomForestClassifier\n",
    "from sklearn.model_selection import train_test_split, GridSearchCV, cross_val_score\n",
    "from sklearn.tree import DecisionTreeClassifier\n",
    "from sklearn.metrics import accuracy_score, make_scorer, precision_score"
   ]
  },
  {
   "cell_type": "markdown",
   "metadata": {
    "id": "LA2lMIpt2A74"
   },
   "source": [
    "## DecisionTreeClassifier"
   ]
  },
  {
   "cell_type": "code",
   "execution_count": null,
   "metadata": {
    "colab": {
     "base_uri": "https://localhost:8080/"
    },
    "id": "yTsW-vkN03S2",
    "outputId": "af8a7daf-c99a-4772-ec20-db9e514377a2"
   },
   "outputs": [
    {
     "name": "stdout",
     "output_type": "stream",
     "text": [
      "Accuracy: 0.22188449848024316\n"
     ]
    }
   ],
   "source": [
    "# Load the data\n",
    "data = pd.read_csv(\"/content/drive/MyDrive/Colab/Practicum/HACKATON/df_new.csv\")\n",
    "data = data[[\"idade\",\"genero\",\"estado_civil\", \"faixa_renda\", \"bloco\"]]\n",
    "\n",
    "# Define the features and target\n",
    "features = ['idade', 'genero', 'estado_civil', 'faixa_renda']\n",
    "target = 'bloco'\n",
    "\n",
    "# Convert categorical features into numeric features\n",
    "data = pd.get_dummies(data, columns=features)\n",
    "\n",
    "# Split the data into features and target variables\n",
    "X = data.drop(target, axis=1)\n",
    "y = data[target]\n",
    "\n",
    "# Split the data into training and testing sets\n",
    "X_train, X_test, y_train, y_test = train_test_split(X, y, test_size=0.2, random_state=42)\n",
    "\n",
    "# Define the model\n",
    "clf = DecisionTreeClassifier(random_state=42)\n",
    "\n",
    "# Fit the model to the training data\n",
    "clf.fit(X_train, y_train)\n",
    "\n",
    "# Make predictions on the testing data\n",
    "y_pred = clf.predict(X_test)\n",
    "\n",
    "# Evaluate the model\n",
    "accuracy = accuracy_score(y_test, y_pred)\n",
    "print('Accuracy:', accuracy)\n"
   ]
  },
  {
   "cell_type": "code",
   "execution_count": null,
   "metadata": {
    "colab": {
     "base_uri": "https://localhost:8080/"
    },
    "id": "_u1SjyRy3sXP",
    "outputId": "96e7766d-b5b7-4605-c1b6-b727a7d0259d"
   },
   "outputs": [
    {
     "name": "stdout",
     "output_type": "stream",
     "text": [
      "Best hyperparameters: {'criterion': 'gini', 'max_depth': 3, 'min_samples_leaf': 2, 'min_samples_split': 2}\n",
      "Accuracy: 0.331306990881459\n",
      "Precision scores: [0.31914894 0.34650456 0.31610942 0.33130699 0.31306991]\n",
      "Mean precision score: 0.32522796352583583\n"
     ]
    }
   ],
   "source": [
    "# Define the hyperparameters to tune\n",
    "param_grid = {\n",
    "    'criterion': ['gini', 'entropy'],\n",
    "    'max_depth': [3, 5, 7],\n",
    "    'min_samples_split': [2, 5, 10],\n",
    "    'min_samples_leaf': [1, 2, 4]\n",
    "}\n",
    "\n",
    "# Define the scoring metric for cross-validation\n",
    "scorer = make_scorer(precision_score, average='micro')\n",
    "\n",
    "# Perform cross-validation with grid search on the training data\n",
    "grid_search = GridSearchCV(estimator=clf, param_grid=param_grid, cv=5, scoring=scorer)\n",
    "grid_search.fit(X_train, y_train)\n",
    "\n",
    "# Print the best hyperparameters\n",
    "print('Best hyperparameters:', grid_search.best_params_)\n",
    "\n",
    "# Train the model with the best hyperparameters on the entire training data\n",
    "best_model = grid_search.best_estimator_\n",
    "best_model.fit(X_train, y_train)\n",
    "\n",
    "# Evaluate the model on the testing data\n",
    "accuracy = best_model.score(X_test, y_test)\n",
    "print('Accuracy:', accuracy)\n",
    "\n",
    "# Evaluate the model using cross-validation on the entire data set\n",
    "scores = cross_val_score(best_model, X, y, cv=5, scoring=scorer)\n",
    "print('Precision scores:', scores)\n",
    "print('Mean precision score:', scores.mean())"
   ]
  },
  {
   "cell_type": "markdown",
   "metadata": {
    "id": "Ni4JPouG2Erl"
   },
   "source": [
    "## RandomForestClassifier"
   ]
  },
  {
   "cell_type": "code",
   "execution_count": 169,
   "metadata": {
    "colab": {
     "base_uri": "https://localhost:8080/"
    },
    "id": "JbdaS6351Qa3",
    "outputId": "f0321eea-9dab-4b16-edfa-6298ae952159"
   },
   "outputs": [
    {
     "name": "stdout",
     "output_type": "stream",
     "text": [
      "Accuracy: 0.3465045592705167\n"
     ]
    }
   ],
   "source": [
    "# Load the data\n",
    "data = pd.read_csv(\"/content/drive/MyDrive/Colab/Practicum/HACKATON/df_new.csv\")\n",
    "data = data[[\"idade\",\"genero\",\"estado_civil\", \"bloco\"]]\n",
    "\n",
    "# Define the features and target\n",
    "features = ['idade', 'genero', 'estado_civil', 'faixa_renda']\n",
    "target = 'bloco'\n",
    "\n",
    "# Convert categorical features into numeric features\n",
    "data = pd.get_dummies(data, columns=['genero', 'estado_civil'])\n",
    "\n",
    "# Split the data into features and target variables\n",
    "X = data.drop(target, axis=1)\n",
    "y = data[target]\n",
    "\n",
    "# Split the data into training and testing sets\n",
    "X_train, X_test, y_train, y_test = train_test_split(data.drop(target, axis=1), data[target], test_size=0.2, random_state=42)\n",
    "\n",
    "# Define the model\n",
    "clf = RandomForestClassifier(n_estimators=100, max_depth=5, random_state=42)\n",
    "\n",
    "# Fit the model to the training data\n",
    "clf.fit(X_train, y_train)\n",
    "\n",
    "# Make predictions on the testing data\n",
    "y_pred = clf.predict(X_test)\n",
    "\n",
    "# Evaluate the model\n",
    "accuracy = accuracy_score(y_test, y_pred)\n",
    "print('Accuracy:', accuracy)\n"
   ]
  },
  {
   "cell_type": "code",
   "execution_count": 171,
   "metadata": {
    "colab": {
     "base_uri": "https://localhost:8080/"
    },
    "id": "ZD3AVxx2u5xX",
    "outputId": "642ec0a4-b556-4ef2-f925-17bc0925afb3"
   },
   "outputs": [
    {
     "name": "stdout",
     "output_type": "stream",
     "text": [
      "<class 'pandas.core.frame.DataFrame'>\n",
      "RangeIndex: 1645 entries, 0 to 1644\n",
      "Data columns (total 10 columns):\n",
      " #   Column                       Non-Null Count  Dtype \n",
      "---  ------                       --------------  ----- \n",
      " 0   idade                        1645 non-null   int64 \n",
      " 1   bloco                        1645 non-null   object\n",
      " 2   genero_Feminino              1645 non-null   uint8 \n",
      " 3   genero_Masculino             1645 non-null   uint8 \n",
      " 4   estado_civil_Casado (a)      1645 non-null   uint8 \n",
      " 5   estado_civil_Divorciado (a)  1645 non-null   uint8 \n",
      " 6   estado_civil_Nao respondeu   1645 non-null   uint8 \n",
      " 7   estado_civil_Outro           1645 non-null   uint8 \n",
      " 8   estado_civil_Solteiro (a)    1645 non-null   uint8 \n",
      " 9   estado_civil_Viuvo (a)       1645 non-null   uint8 \n",
      "dtypes: int64(1), object(1), uint8(8)\n",
      "memory usage: 38.7+ KB\n"
     ]
    }
   ],
   "source": [
    "data.info()"
   ]
  },
  {
   "cell_type": "code",
   "execution_count": null,
   "metadata": {
    "id": "rgahxNHSu52Q"
   },
   "outputs": [],
   "source": []
  },
  {
   "cell_type": "markdown",
   "metadata": {
    "id": "CcNcSe3KPOP5"
   },
   "source": [
    "### Custom Test"
   ]
  },
  {
   "cell_type": "code",
   "execution_count": null,
   "metadata": {
    "colab": {
     "base_uri": "https://localhost:8080/"
    },
    "id": "j7CyaVVURh0S",
    "outputId": "efcb7b7d-f5e8-4339-d9c7-3a954050c5d8"
   },
   "outputs": [
    {
     "name": "stdout",
     "output_type": "stream",
     "text": [
      "Qual a sua idade? 50\n",
      "Qual o seu gênero (Feminino/Masculino)? feminino\n",
      "Qual é o seu estado civil?\n",
      "1. Solteiro (a)\n",
      "2. Casado (a)\n",
      "3. Outro\n",
      "4. Divorciado (a)\n",
      "5. Viuvo (a)\n",
      "6. Nao respondeu\n",
      "4\n",
      "Qual é a sua faixa de renda mensal (em reais)?\n",
      "1. Ate um salario minimo (R$ 954,00 )\n",
      "2. de 1 a 2 salarios (R$ 954,00 – R$ 1908,00)\n",
      "3. de 2 a 3 salarios (R$ 1875,00 – R$ 2862,00)\n",
      "4. de 3 a 4 salarios (R$ 2812,00 – R$ 3816,00)\n",
      "5. de 4 a 5 salarios (R$ 3749,00 – R$ 4770,00)\n",
      "6. de 5 a 6 salarios (R$ 4686,00 – R$ 5724,00)\n",
      "7. de 6 a 7 salarios (R$ 5623,00 – R$ 6678,00)\n",
      "8. de 7 a 8 salarios (R$ 6560,00 – R$ 7632,00)\n",
      "9. de 8 a 9 salarios (R$ 7497,00 – R$ 8586,00)\n",
      "10. de 9 a 10 salarios (R$ 8434,00 – R$ 9540,00)\n",
      "11. Acima de 10 salarios (acima de R$ 9540,00)\n",
      "12. Nao sabe\n",
      "13. Nao respondeu\n",
      "2\n",
      "['Baianas Ozadas']\n"
     ]
    }
   ],
   "source": [
    "# Define the allowed options for the estado_civil column\n",
    "allowed_estado_civil = ['Solteiro (a)', 'Casado (a)', 'Outro', 'Divorciado (a)', 'Viuvo (a)', 'Nao respondeu']\n",
    "# Generate a list of enumerated options for the estado_civil column\n",
    "enumerated_estado_civil = list(enumerate(allowed_estado_civil, start=1))\n",
    "# Convert the enumerated options to a list of strings\n",
    "estado_civil_options = [f'{index}. {option}' for index, option in enumerated_estado_civil]\n",
    "\n",
    "# Define the allowed options for the faixa_renda column\n",
    "allowed_faixa_renda = [\n",
    "    'Ate um salario minimo (R$ 954,00 )',\n",
    "    'de 1 a 2 salarios (R$ 954,00 – R$ 1908,00)',\n",
    "    'de 2 a 3 salarios (R$ 1875,00 – R$ 2862,00)',\n",
    "    'de 3 a 4 salarios (R$ 2812,00 – R$ 3816,00)',\n",
    "    'de 4 a 5 salarios (R$ 3749,00 – R$ 4770,00)',\n",
    "    'de 5 a 6 salarios (R$ 4686,00 – R$ 5724,00)',\n",
    "    'de 6 a 7 salarios (R$ 5623,00 – R$ 6678,00)',\n",
    "    'de 7 a 8 salarios (R$ 6560,00 – R$ 7632,00)',\n",
    "    'de 8 a 9 salarios (R$ 7497,00 – R$ 8586,00)',\n",
    "    'de 9 a 10 salarios (R$ 8434,00 – R$ 9540,00)',\n",
    "    'Acima de 10 salarios (acima de R$ 9540,00)',\n",
    "    'Nao sabe',\n",
    "    'Nao respondeu'\n",
    "]\n",
    "\n",
    "# Generate a list of enumerated options for the faixa_renda column\n",
    "enumerated_faixa_renda = list(enumerate(allowed_faixa_renda, start=1))\n",
    "# Convert the enumerated options to a list of strings\n",
    "faixa_renda_options = [f'{index}. {option}' for index, option in enumerated_faixa_renda]\n",
    "\n",
    "# Prompt the user for input and show the enumerated options for the estado_civil column\n",
    "while True:\n",
    "    idade = int(input('Qual a sua idade? '))\n",
    "    genero = input('Qual o seu gênero (Feminino/Masculino)? ')\n",
    "    estado_civil = input('Qual é o seu estado civil?\\n' + '\\n'.join(estado_civil_options) + '\\n')\n",
    "    print('Qual é a sua faixa de renda mensal (em reais)?')\n",
    "    print('\\n'.join(faixa_renda_options))\n",
    "    faixa_renda = input()\n",
    "\n",
    "    # Parse the user's input to get the corresponding allowed option\n",
    "    try:\n",
    "        faixa_renda_idx = int(faixa_renda)\n",
    "        faixa_renda = enumerated_faixa_renda[faixa_renda_idx - 1][1]\n",
    "    except (ValueError, IndexError):\n",
    "        print(f'Opção inválida para a faixa de renda. Por favor, tente novamente.')\n",
    "        continue\n",
    "\n",
    "    # Convert the user input to the same categorical format as the original data\n",
    "    genero_cat = 'Feminino' if genero.lower() == 'feminino' else 'Masculino'\n",
    "    estado_civil_cat = estado_civil\n",
    "    faixa_renda_cat = faixa_renda\n",
    "\n",
    "    # Create a new DataFrame with the user input\n",
    "    custom_row = pd.DataFrame({\n",
    "        'idade': [idade],\n",
    "        'genero': [genero_cat],\n",
    "        'estado_civil': [estado_civil_cat],\n",
    "        'faixa_renda': [faixa_renda_cat]\n",
    "    })\n",
    "\n",
    "    # Convert the categorical variables into numerical variables using the same mapping as before\n",
    "    custom_row = pd.get_dummies(custom_row, columns=['genero', 'estado_civil', 'faixa_renda'])\n",
    "\n",
    "    # Reorder the columns to match the order of the original data\n",
    "    custom_row = custom_row.reindex(columns=X.columns, fill_value=0)\n",
    "\n",
    "    # Make predictions for the custom row\n",
    "    y_pred_custom = clf.predict(custom_row)\n",
    "\n",
    "    # Print the predicted target variable\n",
    "    print(y_pred_custom)\n",
    "\n",
    "    break"
   ]
  },
  {
   "cell_type": "code",
   "execution_count": null,
   "metadata": {
    "colab": {
     "base_uri": "https://localhost:8080/"
    },
    "id": "gJAVa5A81l-L",
    "outputId": "4be0b37d-adae-42d9-b8e0-b8c79255e2a7"
   },
   "outputs": [
    {
     "name": "stdout",
     "output_type": "stream",
     "text": [
      "Best hyperparameters: {'max_depth': 7, 'min_samples_leaf': 4, 'min_samples_split': 2, 'n_estimators': 200}\n",
      "Accuracy: 0.3434650455927052\n",
      "Precision scores: [0.3343465  0.32826748 0.34042553 0.3343465  0.33130699]\n",
      "Mean precision score: 0.3337386018237082\n"
     ]
    }
   ],
   "source": [
    "# Define the hyperparameters to tune\n",
    "param_grid = {\n",
    "    'n_estimators': [50, 100, 200],\n",
    "    'max_depth': [3, 5, 7],\n",
    "    'min_samples_split': [2, 5, 10],\n",
    "    'min_samples_leaf': [1, 2, 4]\n",
    "}\n",
    "\n",
    "# Define the scoring metric for cross-validation\n",
    "scorer = make_scorer(precision_score, average='micro')\n",
    "\n",
    "# Perform cross-validation with grid search on the training data\n",
    "grid_search = GridSearchCV(estimator=clf, param_grid=param_grid, cv=5, scoring=scorer)\n",
    "grid_search.fit(X_train, y_train)\n",
    "\n",
    "# Print the best hyperparameters\n",
    "print('Best hyperparameters:', grid_search.best_params_)\n",
    "\n",
    "# Train the model with the best hyperparameters on the entire training data\n",
    "best_model = grid_search.best_estimator_\n",
    "best_model.fit(X_train, y_train)\n",
    "\n",
    "# Evaluate the model on the testing data\n",
    "accuracy = best_model.score(X_test, y_test)\n",
    "print('Accuracy:', accuracy)\n",
    "\n",
    "# Evaluate the model using cross-validation on the entire data set\n",
    "scores = cross_val_score(best_model, X, y, cv=5, scoring=scorer)\n",
    "print('Precision scores:', scores)\n",
    "print('Mean precision score:', scores.mean())"
   ]
  },
  {
   "cell_type": "markdown",
   "metadata": {
    "id": "Bri4Y78t_ZYx"
   },
   "source": [
    "## SVM"
   ]
  },
  {
   "cell_type": "code",
   "execution_count": null,
   "metadata": {
    "colab": {
     "base_uri": "https://localhost:8080/"
    },
    "id": "qLs4x0zT_a25",
    "outputId": "d7bb69f8-9e7f-460e-f042-dff312cbb399"
   },
   "outputs": [
    {
     "name": "stdout",
     "output_type": "stream",
     "text": [
      "Accuracy: 0.3282674772036474\n"
     ]
    }
   ],
   "source": [
    "from sklearn.preprocessing import StandardScaler, OneHotEncoder\n",
    "from sklearn.svm import SVC\n",
    "from sklearn.compose import ColumnTransformer\n",
    "from sklearn.pipeline import Pipeline\n",
    "from sklearn.model_selection import train_test_split\n",
    "\n",
    "# Load the data\n",
    "data = pd.read_csv(\"/content/drive/MyDrive/Colab/Practicum/HACKATON/df_new.csv\")\n",
    "data = data[[\"idade\",\"genero\",\"estado_civil\", \"faixa_renda\", \"bloco\"]]\n",
    "\n",
    "# Define the features and target\n",
    "features = ['idade', 'genero', 'estado_civil', 'faixa_renda']\n",
    "target = 'bloco'\n",
    "\n",
    "# Split the data into features and target variables\n",
    "X = data.drop(target, axis=1)\n",
    "y = data[target]\n",
    "\n",
    "# Split the dataset into training and testing sets\n",
    "X_train, X_test, y_train, y_test = train_test_split(X, y, test_size=0.2, random_state=42)\n",
    "\n",
    "# Define the column transformer for one-hot encoding categorical features\n",
    "preprocessor = ColumnTransformer(\n",
    "    transformers=[\n",
    "        ('cat', OneHotEncoder(), ['genero', 'estado_civil']),\n",
    "    ])\n",
    "\n",
    "# Define the SVM classifier\n",
    "clf = Pipeline(steps=[('preprocessor', preprocessor),\n",
    "                      ('classifier', SVC(kernel='linear', random_state=42))])\n",
    "\n",
    "# Fit the model on the training data\n",
    "clf.fit(X_train, y_train)\n",
    "\n",
    "# Test the model on the testing data\n",
    "score = clf.score(X_test, y_test)\n",
    "\n",
    "print(\"Accuracy:\", score)"
   ]
  },
  {
   "cell_type": "markdown",
   "metadata": {
    "id": "qoXnVzvaAX89"
   },
   "source": [
    "## Naive Bayes"
   ]
  },
  {
   "cell_type": "code",
   "execution_count": 161,
   "metadata": {
    "colab": {
     "base_uri": "https://localhost:8080/"
    },
    "id": "f-quAAXbAK7X",
    "outputId": "209b8846-1847-4126-8519-89844d98897c"
   },
   "outputs": [
    {
     "name": "stdout",
     "output_type": "stream",
     "text": [
      "Accuracy: 0.3586626139817629\n"
     ]
    }
   ],
   "source": [
    "from sklearn.naive_bayes import MultinomialNB\n",
    "from sklearn.model_selection import train_test_split\n",
    "from sklearn.compose import ColumnTransformer\n",
    "from sklearn.pipeline import Pipeline\n",
    "from sklearn.preprocessing import OneHotEncoder\n",
    "from scipy.sparse import csr_matrix\n",
    "import pandas as pd\n",
    "\n",
    "# Define the features and target\n",
    "features = ['idade', 'genero', 'estado_civil', 'faixa_renda']\n",
    "target = 'bloco'\n",
    "\n",
    "# Split the dataset into training and testing sets\n",
    "X_train, X_test, y_train, y_test = train_test_split(data[features], data[target], test_size=0.2, random_state=42)\n",
    "\n",
    "# Define the column transformer for one-hot encoding categorical features\n",
    "preprocessor = ColumnTransformer(\n",
    "    transformers=[\n",
    "        ('cat', OneHotEncoder(), ['genero', 'estado_civil']),\n",
    "    ])\n",
    "\n",
    "# Preprocess the data and convert to sparse matrix format\n",
    "X_train = preprocessor.fit_transform(X_train)\n",
    "X_test = preprocessor.transform(X_test)\n",
    "X_train_sparse = csr_matrix(X_train)\n",
    "X_test_sparse = csr_matrix(X_test)\n",
    "\n",
    "# Define the Naive Bayes classifier\n",
    "NaiveBayes = MultinomialNB()\n",
    "\n",
    "# Fit the model on the training data\n",
    "NaiveBayes.fit(X_train_sparse, y_train)\n",
    "\n",
    "# Test the model on the testing data\n",
    "score = NaiveBayes.score(X_test_sparse, y_test)\n",
    "\n",
    "print(\"Accuracy:\", score)\n"
   ]
  },
  {
   "cell_type": "markdown",
   "metadata": {
    "id": "FDFS3-rDAuth"
   },
   "source": [
    "## KNN"
   ]
  },
  {
   "cell_type": "code",
   "execution_count": null,
   "metadata": {
    "colab": {
     "base_uri": "https://localhost:8080/"
    },
    "id": "V__g9mBBAwmR",
    "outputId": "dc0e9478-a8ac-42db-94f0-3d9724f24023"
   },
   "outputs": [
    {
     "name": "stdout",
     "output_type": "stream",
     "text": [
      "Accuracy: 0.2948328267477204\n"
     ]
    }
   ],
   "source": [
    "import pandas as pd\n",
    "from sklearn.preprocessing import LabelEncoder\n",
    "from sklearn.model_selection import train_test_split\n",
    "from sklearn.neighbors import KNeighborsClassifier\n",
    "from sklearn.metrics import accuracy_score\n",
    "\n",
    "# Converter variáveis categóricas em numéricas\n",
    "le = LabelEncoder()\n",
    "data_ml[\"genero\"] = le.fit_transform(data_ml[\"genero\"])\n",
    "data_ml[\"estado_civil\"] = le.fit_transform(data_ml[\"estado_civil\"])\n",
    "data_ml[\"faixa_renda\"] = le.fit_transform(data_ml[\"faixa_renda\"])\n",
    "data_ml[\"bloco\"] = le.fit_transform(data_ml[\"bloco\"])\n",
    "\n",
    "# Dividir os dados em conjunto de treinamento e conjunto de teste\n",
    "X = data_ml.drop(\"bloco\", axis=1)\n",
    "y = data_ml[\"bloco\"]\n",
    "X_train, X_test, y_train, y_test = train_test_split(X, y, test_size=0.2, random_state=42)\n",
    "\n",
    "# Treinar o modelo KNN com k=5\n",
    "knn = KNeighborsClassifier(n_neighbors=5)\n",
    "knn.fit(X_train, y_train)\n",
    "\n",
    "# Fazer previsões no conjunto de teste\n",
    "y_pred = knn.predict(X_test)\n",
    "\n",
    "# Avaliar a acurácia do modelo\n",
    "score = accuracy_score(y_test, y_pred)\n",
    "print(\"Accuracy:\", score)"
   ]
  },
  {
   "cell_type": "markdown",
   "metadata": {
    "id": "HFwcMTOMOj-p"
   },
   "source": [
    "# # Python Script"
   ]
  },
  {
   "cell_type": "code",
   "execution_count": 156,
   "metadata": {
    "colab": {
     "base_uri": "https://localhost:8080/"
    },
    "id": "iyYpvAqeK5vS",
    "outputId": "3c9f938b-6b01-45d7-e7fe-ed76c0372c7e"
   },
   "outputs": [
    {
     "name": "stdout",
     "output_type": "stream",
     "text": [
      "          Model  Processing Time  Accuracy\n",
      "1  RandomForest         0.181539  0.352584\n",
      "3    NaiveBayes         0.010923  0.328267\n",
      "2           SVM         0.175726  0.325228\n",
      "4           KNN         0.012937  0.294833\n",
      "0  DecisionTree         0.006779  0.206687\n"
     ]
    }
   ],
   "source": [
    "import pandas as pd\n",
    "import time\n",
    "from sklearn.preprocessing import LabelEncoder, StandardScaler, OneHotEncoder\n",
    "from sklearn.model_selection import train_test_split, GridSearchCV, cross_val_score\n",
    "from sklearn.metrics import accuracy_score, make_scorer, precision_score\n",
    "from sklearn.tree import DecisionTreeClassifier\n",
    "from sklearn.ensemble import RandomForestClassifier\n",
    "from sklearn.svm import SVC\n",
    "from sklearn.naive_bayes import MultinomialNB\n",
    "from sklearn.neighbors import KNeighborsClassifier\n",
    "from sklearn.compose import ColumnTransformer\n",
    "from sklearn.pipeline import Pipeline\n",
    "from scipy.sparse import csr_matrix\n",
    "\n",
    "def run_ml_models(data, features, target):\n",
    "    results = []\n",
    "\n",
    "    # Convert categorical features into numeric features\n",
    "    le = LabelEncoder()\n",
    "    for feature in features:\n",
    "        if data[feature].dtype == \"object\":\n",
    "            data[feature] = le.fit_transform(data[feature])\n",
    "\n",
    "    # Split the data into features and target variables\n",
    "    X = data.drop(target, axis=1)\n",
    "    y = data[target]\n",
    "\n",
    "    # Split the data into training and testing sets\n",
    "    X_train, X_test, y_train, y_test = train_test_split(X, y, test_size=0.2, random_state=42)\n",
    "\n",
    "    # Models and names\n",
    "    models = [\n",
    "        ('DecisionTree', DecisionTreeClassifier(random_state=42)),\n",
    "        ('RandomForest', RandomForestClassifier(n_estimators=100, max_depth=5, random_state=42)),\n",
    "        ('SVM', Pipeline(steps=[('preprocessor', ColumnTransformer(transformers=[('cat', OneHotEncoder(handle_unknown='ignore'), features)])), ('classifier', SVC(kernel='linear', random_state=42))])),\n",
    "        ('NaiveBayes', MultinomialNB()),\n",
    "        ('KNN', KNeighborsClassifier(n_neighbors=5))\n",
    "    ]\n",
    "\n",
    "    for name, model in models:\n",
    "        start_time = time.time()\n",
    "        \n",
    "        if name == 'NaiveBayes':\n",
    "            preprocessor = ColumnTransformer(transformers=[('cat', OneHotEncoder(handle_unknown='ignore'), features)])\n",
    "            X_train_transformed = csr_matrix(preprocessor.fit_transform(X_train))\n",
    "            X_test_transformed = csr_matrix(preprocessor.transform(X_test))\n",
    "            model.fit(X_train_transformed, y_train)\n",
    "            y_pred = model.predict(X_test_transformed)\n",
    "        else:\n",
    "            model.fit(X_train, y_train)\n",
    "            y_pred = model.predict(X_test)\n",
    "        \n",
    "        end_time = time.time()\n",
    "        processing_time = end_time - start_time\n",
    "        accuracy = accuracy_score(y_test, y_pred)\n",
    "        results.append([name, processing_time, accuracy])\n",
    "\n",
    "    results_df = pd.DataFrame(results, columns=['Model', 'Processing Time', 'Accuracy'])\n",
    "    return results_df\n",
    "\n",
    "# Load the data\n",
    "data = pd.read_csv(\"/content/drive/MyDrive/Colab/Practicum/HACKATON/df_new.csv\")\n",
    "data = data[[\"idade\", \"genero\", \"estado_civil\", \"faixa_renda\", \"bloco\"]]\n",
    "\n",
    "# Define the features and target\n",
    "features = ['idade', 'genero', 'estado_civil', 'faixa_renda']\n",
    "target = 'bloco'\n",
    "\n",
    "# Run the ML models\n",
    "results_df = run_ml_models(data, features, target)\n",
    "print(results_df.sort_values(by='Accuracy', ascending=False))"
   ]
  },
  {
   "cell_type": "code",
   "execution_count": 157,
   "metadata": {
    "id": "v5diAh6qMuDY"
   },
   "outputs": [],
   "source": [
    "# loading library\n",
    "import pickle"
   ]
  },
  {
   "cell_type": "code",
   "execution_count": 164,
   "metadata": {
    "id": "kJZSNf2chfH4"
   },
   "outputs": [],
   "source": [
    "import pickle\n",
    "\n",
    "filename = \"my_model.pickle\"\n",
    "\n",
    "# save model\n",
    "pickle.dump(NaiveBayes, open(filename, \"wb\"))"
   ]
  },
  {
   "cell_type": "code",
   "execution_count": null,
   "metadata": {
    "id": "jCdGnA5Hh2qL"
   },
   "outputs": [],
   "source": []
  }
 ],
 "metadata": {
  "colab": {
   "provenance": [],
   "toc_visible": true
  },
  "kernelspec": {
   "display_name": "Python 3 (ipykernel)",
   "language": "python",
   "name": "python3"
  },
  "language_info": {
   "codemirror_mode": {
    "name": "ipython",
    "version": 3
   },
   "file_extension": ".py",
   "mimetype": "text/x-python",
   "name": "python",
   "nbconvert_exporter": "python",
   "pygments_lexer": "ipython3",
   "version": "3.9.13"
  }
 },
 "nbformat": 4,
 "nbformat_minor": 1
}
